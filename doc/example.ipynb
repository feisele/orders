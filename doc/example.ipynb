{
 "cells": [
  {
   "cell_type": "markdown",
   "metadata": {},
   "source": [
    "# The `orders` package: introduction by example\n",
    "\n",
    "This notebook contains three examples to illustrate how the <code>orders</code> package works, and to showcase some of its features (although these examples are by no means exhaustive; refer to the documentation for a full list of features).\n",
    "\n",
    "## A small example: $\\mathbb Z_2 S_5$"
   ]
  },
  {
   "cell_type": "code",
   "execution_count": 1,
   "metadata": {},
   "outputs": [],
   "source": [
    "LoadPackage(\"orders\");;"
   ]
  },
  {
   "cell_type": "code",
   "execution_count": 2,
   "metadata": {},
   "outputs": [
    {
     "data": {
      "text/markdown": [
       "&lt;order over $\\mathbb Z_{2}$ on 2 generators in 7 Wedderburn components&gt;"
      ]
     },
     "execution_count": 2,
     "metadata": {},
     "output_type": "execute_result"
    }
   ],
   "source": [
    "A := ZpSn(2,5);"
   ]
  },
  {
   "cell_type": "markdown",
   "metadata": {},
   "source": [
    "This order is represented by generators, which are lists of matrices (the images of $(1,2)$ and $(1,2,3,4,5)$ under the irreducible representations of $S_5$). We can access these as follows:"
   ]
  },
  {
   "cell_type": "code",
   "execution_count": 3,
   "metadata": {},
   "outputs": [
    {
     "data": {
      "text/plain": [
       "[ [ [ [ 1 ] ], [ [ -1, 1, 0, 0 ], [ -1, 0, 1, 0 ], [ -1, 0, 0, 1 ], [ -1, 0, 0, 0 ] ], [ [ 1, -1, -1, 1, 0 ], [ 1, -1, -1, 0, 1 ], [ 1, -1, 0, 0, 0 ], [ 0, -1, 0, 0, 0 ], [ 0, 0, 0, -1, 0 ] ], [ [ 1, -1, 1, 0, 0, 0 ], [ 1, 0, 0, -1, 1, 0 ], [ 0, 1, 0, -1, 0, 1 ], [ 1, 0, 0, 0, 0, 0 ], [ 0, 1, 0, 0, 0, 0 ], [ 0, 0, 0, 1, 0, 0 ] ], [ [ -1, 1, -1, 0, 0 ], [ 1, 0, 0, 1, -1 ], [ 1, 0, 1, 0, -1 ], [ 1, 0, 0, 0, 0 ], [ 0, 1, 0, 0, 0 ] ], [ [ -1, 1, -1, 1 ], [ -1, 0, 0, 0 ], [ 0, -1, 0, 0 ], [ 0, 0, -1, 0 ] ], [ [ 1 ] ] ], [ [ [ 1 ] ], [ [ -1, 0, 0, 0 ], [ -1, 1, 0, 0 ], [ -1, 0, 1, 0 ], [ -1, 0, 0, 1 ] ], [ [ -1, 0, 0, 0, 0 ], [ -1, 1, 0, 0, 0 ], [ 0, 0, -1, 0, 0 ], [ 0, 0, -1, 1, 0 ], [ 1, 0, -1, 0, 1 ] ], [ [ -1, 0, 0, 0, 0, 0 ], [ 0, -1, 0, 0, 0, 0 ], [ 1, -1, 1, 0, 0, 0 ], [ 0, 0, 0, -1, 0, 0 ], [ 1, 0, 0, -1, 1, 0 ], [ 0, 1, 0, -1, 0, 1 ] ], [ [ -1, 0, 0, 0, 0 ], [ 0, -1, 0, 0, 0 ], [ 1, -1, 1, 0, 0 ], [ 0, 0, 0, -1, 0 ], [ -1, 0, 0, -1, 1 ] ], [ [ -1, 0, 0, 0 ], [ 0, -1, 0, 0 ], [ 0, 0, -1, 0 ], [ -1, 1, -1, 1 ] ], [ [ -1 ] ] ] ]"
      ]
     },
     "execution_count": 3,
     "metadata": {
      "text/plain": ""
     },
     "output_type": "execute_result"
    }
   ],
   "source": [
    "Generators(A);"
   ]
  },
  {
   "cell_type": "markdown",
   "metadata": {},
   "source": [
    "For more readable output you can use:"
   ]
  },
  {
   "cell_type": "code",
   "execution_count": 4,
   "metadata": {},
   "outputs": [
    {
     "data": {
      "text/latex": [
       "$\\left[\\left(\\begin{array}{r}%\n",
       "1\\\\%\n",
       "\\end{array}\\right)%\n",
       ", \\left(\\begin{array}{rrrr}%\n",
       "-1&1&0&0\\\\%\n",
       "-1&0&1&0\\\\%\n",
       "-1&0&0&1\\\\%\n",
       "-1&0&0&0\\\\%\n",
       "\\end{array}\\right)%\n",
       ", \\left(\\begin{array}{rrrrr}%\n",
       "1&-1&-1&1&0\\\\%\n",
       "1&-1&-1&0&1\\\\%\n",
       "1&-1&0&0&0\\\\%\n",
       "0&-1&0&0&0\\\\%\n",
       "0&0&0&-1&0\\\\%\n",
       "\\end{array}\\right)%\n",
       ", \\left(\\begin{array}{rrrrrr}%\n",
       "1&-1&1&0&0&0\\\\%\n",
       "1&0&0&-1&1&0\\\\%\n",
       "0&1&0&-1&0&1\\\\%\n",
       "1&0&0&0&0&0\\\\%\n",
       "0&1&0&0&0&0\\\\%\n",
       "0&0&0&1&0&0\\\\%\n",
       "\\end{array}\\right)%\n",
       ", \\left(\\begin{array}{rrrrr}%\n",
       "-1&1&-1&0&0\\\\%\n",
       "1&0&0&1&-1\\\\%\n",
       "1&0&1&0&-1\\\\%\n",
       "1&0&0&0&0\\\\%\n",
       "0&1&0&0&0\\\\%\n",
       "\\end{array}\\right)%\n",
       ", \\left(\\begin{array}{rrrr}%\n",
       "-1&1&-1&1\\\\%\n",
       "-1&0&0&0\\\\%\n",
       "0&-1&0&0\\\\%\n",
       "0&0&-1&0\\\\%\n",
       "\\end{array}\\right)%\n",
       ", \\left(\\begin{array}{r}%\n",
       "1\\\\%\n",
       "\\end{array}\\right)%\n",
       "\\right]$"
      ]
     },
     "execution_count": 4,
     "metadata": {},
     "output_type": "execute_result"
    }
   ],
   "source": [
    "JupyterDisplayMultiMatrix(Generators(A)[1]); # First generator"
   ]
  },
  {
   "cell_type": "markdown",
   "metadata": {},
   "source": [
    "One basic thing we can do now is compute the decomposition matrix of $A$:"
   ]
  },
  {
   "cell_type": "code",
   "execution_count": 5,
   "metadata": {},
   "outputs": [
    {
     "name": "stdout",
     "output_type": "stream",
     "text": [
      "[ [  1,  0,  0 ],\n",
      "  [  0,  1,  0 ],\n",
      "  [  1,  0,  1 ],\n",
      "  [  2,  0,  1 ],\n",
      "  [  1,  0,  1 ],\n",
      "  [  0,  1,  0 ],\n",
      "  [  1,  0,  0 ] ]\n"
     ]
    }
   ],
   "source": [
    "Display(DecompositionMatrix(A));"
   ]
  },
  {
   "cell_type": "markdown",
   "metadata": {},
   "source": [
    "We can also get a fancier version of the decomposition matrix, "
   ]
  },
  {
   "cell_type": "code",
   "execution_count": 6,
   "metadata": {},
   "outputs": [
    {
     "data": {
      "text/latex": [
       "$$\\begin{array}{||cc|ccc||} \\hline\n",
       "& & 1 & 4 & 4' \\\\& & 1 & 4 & 4 \\\\ \\hline(5)&\n",
       "1 & 1\n",
       " & .\n",
       " & .\n",
       "\\\\\n",
       "(4,1)&\n",
       "4 & .\n",
       " & 1\n",
       " & .\n",
       "\\\\\n",
       "(3,2)&\n",
       "5 & 1\n",
       " & .\n",
       " & 1\n",
       "\\\\\n",
       "(3,1^{2})&\n",
       "6 & 2\n",
       " & .\n",
       " & 1\n",
       "\\\\\n",
       "(2^{2},1)&\n",
       "5 & 1\n",
       " & .\n",
       " & 1\n",
       "\\\\\n",
       "(2,1^{3})&\n",
       "4 & .\n",
       " & 1\n",
       " & .\n",
       "\\\\\n",
       "(1^{5})&\n",
       "1 & 1\n",
       " & .\n",
       " & .\n",
       "\\\\\n",
       "\\hline\\end{array}\n",
       "$$\n"
      ]
     },
     "execution_count": 6,
     "metadata": {},
     "output_type": "execute_result"
    }
   ],
   "source": [
    "JupyterDisplayDecompositionMatrix(A);"
   ]
  },
  {
   "cell_type": "markdown",
   "metadata": {},
   "source": [
    "Let's consider the Specht lattice $S^{(3,1^2)}$:"
   ]
  },
  {
   "cell_type": "code",
   "execution_count": 7,
   "metadata": {},
   "outputs": [
    {
     "data": {
      "text/plain": [
       "<lattice over an order given by representation on Z2^1x6>"
      ]
     },
     "execution_count": 7,
     "metadata": {
      "text/plain": ""
     },
     "output_type": "execute_result"
    }
   ],
   "source": [
    "L := IrreducibleLattices(A)[4];"
   ]
  },
  {
   "cell_type": "markdown",
   "metadata": {},
   "source": [
    "We can use <code>Rep</code> to access the actual representation. Of course we could do this for all lattices we compute below, so if you want to check for lattices that satisfy certain properties which are not provided by this package, you can easily do so."
   ]
  },
  {
   "cell_type": "code",
   "execution_count": 8,
   "metadata": {},
   "outputs": [
    {
     "data": {
      "text/latex": [
       "$\\left[\\left(\\begin{array}{rrrrrr}%\n",
       "1&-1&1&0&0&0\\\\%\n",
       "1&0&0&-1&1&0\\\\%\n",
       "0&1&0&-1&0&1\\\\%\n",
       "1&0&0&0&0&0\\\\%\n",
       "0&1&0&0&0&0\\\\%\n",
       "0&0&0&1&0&0\\\\%\n",
       "\\end{array}\\right)%\n",
       ", \\left(\\begin{array}{rrrrrr}%\n",
       "-1&0&0&0&0&0\\\\%\n",
       "0&-1&0&0&0&0\\\\%\n",
       "1&-1&1&0&0&0\\\\%\n",
       "0&0&0&-1&0&0\\\\%\n",
       "1&0&0&-1&1&0\\\\%\n",
       "0&1&0&-1&0&1\\\\%\n",
       "\\end{array}\\right)%\n",
       "\\right]$"
      ]
     },
     "execution_count": 8,
     "metadata": {},
     "output_type": "execute_result"
    }
   ],
   "source": [
    "JupyterDisplayMultiMatrix(Rep(L));"
   ]
  },
  {
   "cell_type": "code",
   "execution_count": 9,
   "metadata": {},
   "outputs": [
    {
     "data": {
      "text/plain": [
       "[ <lattice over an order given by representation on Z2^1x6>, <lattice over an order given by representation on Z2^1x6>, <lattice over an order given by representation on Z2^1x6> ]"
      ]
     },
     "execution_count": 9,
     "metadata": {
      "text/plain": ""
     },
     "output_type": "execute_result"
    }
   ],
   "source": [
    "lat := AllLattices(L);"
   ]
  },
  {
   "cell_type": "code",
   "execution_count": 10,
   "metadata": {},
   "outputs": [
    {
     "data": {
      "text/plain": [
       "3"
      ]
     },
     "execution_count": 10,
     "metadata": {
      "text/plain": ""
     },
     "output_type": "execute_result"
    }
   ],
   "source": [
    "Size(lat);"
   ]
  },
  {
   "cell_type": "code",
   "execution_count": 11,
   "metadata": {},
   "outputs": [
    {
     "data": {
      "text/plain": [
       "[ <lattice over an order given by representation on Z2^1x18>, <lattice over an order given by representation on Z2^1x18>, <lattice over an order given by representation on Z2^1x18>, <lattice over an order given by representation on Z2^1x18>, <lattice over an order given by representation on Z2^1x18>, <lattice over an order given by representation on Z2^1x18>, <lattice over an order given by representation on Z2^1x18>, <lattice over an order given by representation on Z2^1x18>, <lattice over an order given by representation on Z2^1x18>, <lattice over an order given by representation on Z2^1x18>, <lattice over an order given by representation on Z2^1x18>, <lattice over an order given by representation on Z2^1x18>, <lattice over an order given by representation on Z2^1x18> ]"
      ]
     },
     "execution_count": 11,
     "metadata": {
      "text/plain": ""
     },
     "output_type": "execute_result"
    }
   ],
   "source": [
    "lat3 := AllLattices(DirectSumOfModules([L,L,L]));"
   ]
  },
  {
   "cell_type": "code",
   "execution_count": 12,
   "metadata": {},
   "outputs": [
    {
     "data": {
      "text/plain": [
       "13"
      ]
     },
     "execution_count": 12,
     "metadata": {
      "text/plain": ""
     },
     "output_type": "execute_result"
    }
   ],
   "source": [
    "Size(lat3);"
   ]
  },
  {
   "cell_type": "markdown",
   "metadata": {},
   "source": [
    "So there are three non-isomorphic full lattices in the $\\mathbb Q_2$-span of $L$, and $13$ in the $\\mathbb Q_2$-span of $L\\oplus L \\oplus L$. We could have a closer look at these lattices individually, e.g. to prove or disprove the existence of lattices with certain properties. This kind of problem pops up in various different contexts, for example when looking for units of finite order in $\\mathbb Z_pG$."
   ]
  },
  {
   "cell_type": "markdown",
   "metadata": {},
   "source": [
    "We can compute projective indecomposable modules:"
   ]
  },
  {
   "cell_type": "code",
   "execution_count": 13,
   "metadata": {},
   "outputs": [
    {
     "data": {
      "text/plain": [
       "[ [ <lattice over an order given by representation on Z2^1x24>, <torsion module over an order given by representation on GF(2)^1x1> ], [ <lattice over an order given by representation on Z2^1x8>, <torsion module over an order given by representation on GF(2)^1x4> ], [ <lattice over an order given by representation on Z2^1x16>, <torsion module over an order given by representation on GF(2)^1x4> ] ]"
      ]
     },
     "execution_count": 13,
     "metadata": {
      "text/plain": ""
     },
     "output_type": "execute_result"
    }
   ],
   "source": [
    "P := ProjectiveIndecomposableLattices(A);"
   ]
  },
  {
   "cell_type": "markdown",
   "metadata": {},
   "source": [
    "As an example, let's look at the Loewy series (over a finite field) of the projective cover of the trivial module (which is stored in <code>P[1][1]</code>):"
   ]
  },
  {
   "cell_type": "code",
   "execution_count": 14,
   "metadata": {},
   "outputs": [
    {
     "name": "stdout",
     "output_type": "stream",
     "text": [
      "[ [  1,  0,  0 ],\n",
      "  [  1,  0,  1 ],\n",
      "  [  1,  0,  1 ],\n",
      "  [  2,  0,  0 ],\n",
      "  [  1,  0,  1 ],\n",
      "  [  1,  0,  1 ],\n",
      "  [  1,  0,  0 ],\n",
      "  [  0,  0,  0 ] ]\n"
     ]
    }
   ],
   "source": [
    "Display(RadicalSeries(ReduceModP(P[1][1]),8));"
   ]
  },
  {
   "cell_type": "markdown",
   "metadata": {},
   "source": [
    "Now let's extract the principal block, and compute a basic order of $A$. In this small example, this is straight-forward (no trickery or condensation required):"
   ]
  },
  {
   "cell_type": "code",
   "execution_count": 15,
   "metadata": {},
   "outputs": [
    {
     "data": {
      "text/markdown": [
       "&lt;order over $\\mathbb Z_{2}$ on 2 generators in 5 Wedderburn components&gt;"
      ]
     },
     "execution_count": 15,
     "metadata": {},
     "output_type": "execute_result"
    }
   ],
   "source": [
    "B0 := ExtractWedderburnComponents(A, BlocksOfZpOrder(A)[1]);"
   ]
  },
  {
   "cell_type": "code",
   "execution_count": 16,
   "metadata": {},
   "outputs": [
    {
     "data": {
      "text/markdown": [
       "&lt;order over $\\mathbb Z_{2}$ on 19 generators in 5 Wedderburn components&gt;"
      ]
     },
     "execution_count": 16,
     "metadata": {},
     "output_type": "execute_result"
    }
   ],
   "source": [
    "C := BasicOrder(B0);"
   ]
  },
  {
   "cell_type": "markdown",
   "metadata": {},
   "source": [
    "We could use <code>Generators</code> to inspect the basis of this basic order. Let's just have a look at the first three generators."
   ]
  },
  {
   "cell_type": "code",
   "execution_count": 20,
   "metadata": {},
   "outputs": [
    {
     "data": {
      "text/plain": [
       "19"
      ]
     },
     "execution_count": 17,
     "metadata": {
      "text/plain": ""
     },
     "output_type": "execute_result"
    },
    {
     "data": {
      "text/latex": [
       "$\\left[\\left(\\begin{array}{r}%\n",
       "1\\\\%\n",
       "\\end{array}\\right)%\n",
       ", \\left(\\begin{array}{rr}%\n",
       "1&0\\\\%\n",
       "0&0\\\\%\n",
       "\\end{array}\\right)%\n",
       ", \\left(\\begin{array}{rrr}%\n",
       "1&0&0\\\\%\n",
       "0&1&0\\\\%\n",
       "0&0&0\\\\%\n",
       "\\end{array}\\right)%\n",
       ", \\left(\\begin{array}{rr}%\n",
       "1&0\\\\%\n",
       "0&0\\\\%\n",
       "\\end{array}\\right)%\n",
       ", \\left(\\begin{array}{r}%\n",
       "1\\\\%\n",
       "\\end{array}\\right)%\n",
       "\\right]$"
      ]
     },
     "execution_count": 18,
     "metadata": {},
     "output_type": "execute_result"
    },
    {
     "data": {
      "text/latex": [
       "$\\left[\\left(\\begin{array}{r}%\n",
       "0\\\\%\n",
       "\\end{array}\\right)%\n",
       ", \\left(\\begin{array}{rr}%\n",
       "2&0\\\\%\n",
       "0&0\\\\%\n",
       "\\end{array}\\right)%\n",
       ", \\left(\\begin{array}{rrr}%\n",
       "0&0&0\\\\%\n",
       "1&0&0\\\\%\n",
       "0&0&0\\\\%\n",
       "\\end{array}\\right)%\n",
       ", \\left(\\begin{array}{rr}%\n",
       "2&0\\\\%\n",
       "0&0\\\\%\n",
       "\\end{array}\\right)%\n",
       ", \\left(\\begin{array}{r}%\n",
       "4\\\\%\n",
       "\\end{array}\\right)%\n",
       "\\right]$"
      ]
     },
     "execution_count": 19,
     "metadata": {},
     "output_type": "execute_result"
    },
    {
     "data": {
      "text/latex": [
       "$\\left[\\left(\\begin{array}{r}%\n",
       "0\\\\%\n",
       "\\end{array}\\right)%\n",
       ", \\left(\\begin{array}{rr}%\n",
       "0&0\\\\%\n",
       "0&0\\\\%\n",
       "\\end{array}\\right)%\n",
       ", \\left(\\begin{array}{rrr}%\n",
       "2&0&0\\\\%\n",
       "0&0&0\\\\%\n",
       "0&0&0\\\\%\n",
       "\\end{array}\\right)%\n",
       ", \\left(\\begin{array}{rr}%\n",
       "0&0\\\\%\n",
       "0&0\\\\%\n",
       "\\end{array}\\right)%\n",
       ", \\left(\\begin{array}{r}%\n",
       "4\\\\%\n",
       "\\end{array}\\right)%\n",
       "\\right]$"
      ]
     },
     "execution_count": 20,
     "metadata": {},
     "output_type": "execute_result"
    }
   ],
   "source": [
    "Size(Generators(C));\n",
    "JupyterDisplayMultiMatrix(Generators(C)[1]);\n",
    "JupyterDisplayMultiMatrix(Generators(C)[2]);\n",
    "JupyterDisplayMultiMatrix(Generators(C)[3]);"
   ]
  },
  {
   "cell_type": "markdown",
   "metadata": {},
   "source": [
    "There is also a handy way of displaying the basis of $C$ in a compact and slightly more readable form (to understand the output compare the first three elements of the first basis to the three basis elements above):"
   ]
  },
  {
   "cell_type": "code",
   "execution_count": 21,
   "metadata": {},
   "outputs": [
    {
     "data": {
      "text/markdown": [
       "* $\\textrm{Hom}_\\Lambda(\\mathcal{P}(S_1), \\mathcal{P}(S_1))^{\\top}$:\n",
       "\n",
       "$$\n",
       " \\left[\\left(\\begin{array}{c}\n",
       " \\scriptscriptstyle \\blacksquare \n",
       "\\end{array}\\right),\n",
       "\\left(\\begin{array}{cc}\n",
       " \\scriptscriptstyle \\blacksquare \n",
       " &  \\scriptscriptstyle \\square \n",
       " \\\\\n",
       " \\scriptscriptstyle \\square \n",
       " &  \\scriptscriptstyle \\square \n",
       "\\end{array}\\right),\n",
       "\\left(\\begin{array}{ccc}\n",
       " \\scriptscriptstyle \\blacksquare \n",
       " &  \\scriptscriptstyle \\blacksquare \n",
       " &  \\scriptscriptstyle \\square \n",
       " \\\\\n",
       " \\scriptscriptstyle \\blacksquare \n",
       " &  \\scriptscriptstyle \\blacksquare \n",
       " &  \\scriptscriptstyle \\square \n",
       " \\\\\n",
       " \\scriptscriptstyle \\square \n",
       " &  \\scriptscriptstyle \\square \n",
       " &  \\scriptscriptstyle \\square \n",
       "\\end{array}\\right),\n",
       "\\left(\\begin{array}{cc}\n",
       " \\scriptscriptstyle \\blacksquare \n",
       " &  \\scriptscriptstyle \\square \n",
       " \\\\\n",
       " \\scriptscriptstyle \\square \n",
       " &  \\scriptscriptstyle \\square \n",
       "\\end{array}\\right),\n",
       "\\left(\\begin{array}{c}\n",
       " \\scriptscriptstyle \\blacksquare \n",
       "\\end{array}\\right)\n",
       " \\right] $$\n",
       "<br/>$\\begin{array}{||c|c|c|c|c||}\n",
       "\\hline\\begin{array}{c}\n",
       " 1\n",
       "\\end{array}\n",
       "&\n",
       "\\begin{array}{c}\n",
       " 1\n",
       "\\end{array}\n",
       "&\n",
       "\\begin{array}{cc}\n",
       " 1 &\n",
       " \\cdot \\\\\n",
       " \\cdot &\n",
       " 1\n",
       "\\end{array}\n",
       "&\n",
       "\\begin{array}{c}\n",
       " 1\n",
       "\\end{array}\n",
       "&\n",
       "\\begin{array}{c}\n",
       " 1\n",
       "\\end{array} \\\\\\hline\n",
       "\\begin{array}{c}\n",
       " \\cdot\n",
       "\\end{array}\n",
       "&\n",
       "\\begin{array}{c}\n",
       " 2\n",
       "\\end{array}\n",
       "&\n",
       "\\begin{array}{cc}\n",
       " \\cdot &\n",
       " \\cdot \\\\\n",
       " 1 &\n",
       " \\cdot\n",
       "\\end{array}\n",
       "&\n",
       "\\begin{array}{c}\n",
       " 2\n",
       "\\end{array}\n",
       "&\n",
       "\\begin{array}{c}\n",
       " 4\n",
       "\\end{array} \\\\\\hline\n",
       "\\begin{array}{c}\n",
       " \\cdot\n",
       "\\end{array}\n",
       "&\n",
       "\\begin{array}{c}\n",
       " \\cdot\n",
       "\\end{array}\n",
       "&\n",
       "\\begin{array}{cc}\n",
       " 2 &\n",
       " \\cdot \\\\\n",
       " \\cdot &\n",
       " \\cdot\n",
       "\\end{array}\n",
       "&\n",
       "\\begin{array}{c}\n",
       " \\cdot\n",
       "\\end{array}\n",
       "&\n",
       "\\begin{array}{c}\n",
       " 4\n",
       "\\end{array} \\\\\\hline\n",
       "\\begin{array}{c}\n",
       " \\cdot\n",
       "\\end{array}\n",
       "&\n",
       "\\begin{array}{c}\n",
       " \\cdot\n",
       "\\end{array}\n",
       "&\n",
       "\\begin{array}{cc}\n",
       " \\cdot &\n",
       " 2 \\\\\n",
       " \\cdot &\n",
       " \\cdot\n",
       "\\end{array}\n",
       "&\n",
       "\\begin{array}{c}\n",
       " 2\n",
       "\\end{array}\n",
       "&\n",
       "\\begin{array}{c}\n",
       " 6\n",
       "\\end{array} \\\\\\hline\n",
       "\\begin{array}{c}\n",
       " \\cdot\n",
       "\\end{array}\n",
       "&\n",
       "\\begin{array}{c}\n",
       " \\cdot\n",
       "\\end{array}\n",
       "&\n",
       "\\begin{array}{cc}\n",
       " \\cdot &\n",
       " \\cdot \\\\\n",
       " 2 &\n",
       " \\cdot\n",
       "\\end{array}\n",
       "&\n",
       "\\begin{array}{c}\n",
       " \\cdot\n",
       "\\end{array}\n",
       "&\n",
       "\\begin{array}{c}\n",
       " \\cdot\n",
       "\\end{array} \\\\\\hline\n",
       "\\begin{array}{c}\n",
       " \\cdot\n",
       "\\end{array}\n",
       "&\n",
       "\\begin{array}{c}\n",
       " \\cdot\n",
       "\\end{array}\n",
       "&\n",
       "\\begin{array}{cc}\n",
       " \\cdot &\n",
       " \\cdot \\\\\n",
       " \\cdot &\n",
       " 2\n",
       "\\end{array}\n",
       "&\n",
       "\\begin{array}{c}\n",
       " \\cdot\n",
       "\\end{array}\n",
       "&\n",
       "\\begin{array}{c}\n",
       " 4\n",
       "\\end{array} \\\\\\hline\n",
       "\\begin{array}{c}\n",
       " \\cdot\n",
       "\\end{array}\n",
       "&\n",
       "\\begin{array}{c}\n",
       " \\cdot\n",
       "\\end{array}\n",
       "&\n",
       "\\begin{array}{cc}\n",
       " \\cdot &\n",
       " \\cdot \\\\\n",
       " \\cdot &\n",
       " \\cdot\n",
       "\\end{array}\n",
       "&\n",
       "\\begin{array}{c}\n",
       " 4\n",
       "\\end{array}\n",
       "&\n",
       "\\begin{array}{c}\n",
       " 4\n",
       "\\end{array} \\\\\\hline\n",
       "\\begin{array}{c}\n",
       " \\cdot\n",
       "\\end{array}\n",
       "&\n",
       "\\begin{array}{c}\n",
       " \\cdot\n",
       "\\end{array}\n",
       "&\n",
       "\\begin{array}{cc}\n",
       " \\cdot &\n",
       " \\cdot \\\\\n",
       " \\cdot &\n",
       " \\cdot\n",
       "\\end{array}\n",
       "&\n",
       "\\begin{array}{c}\n",
       " \\cdot\n",
       "\\end{array}\n",
       "&\n",
       "\\begin{array}{c}\n",
       " 8\n",
       "\\end{array} \\\\\\hline\n",
       "\\end{array}$\n",
       "* $\\textrm{Hom}_\\Lambda(\\mathcal{P}(S_1), \\mathcal{P}(S_2))^{\\top}$:\n",
       "\n",
       "$$\n",
       " \\left[\\left(\\begin{array}{c}\n",
       " \\scriptscriptstyle \\square \n",
       "\\end{array}\\right),\n",
       "\\left(\\begin{array}{cc}\n",
       " \\scriptscriptstyle \\square \n",
       " &  \\scriptscriptstyle \\square \n",
       " \\\\\n",
       " \\scriptscriptstyle \\blacksquare \n",
       " &  \\scriptscriptstyle \\square \n",
       "\\end{array}\\right),\n",
       "\\left(\\begin{array}{ccc}\n",
       " \\scriptscriptstyle \\square \n",
       " &  \\scriptscriptstyle \\square \n",
       " &  \\scriptscriptstyle \\square \n",
       " \\\\\n",
       " \\scriptscriptstyle \\square \n",
       " &  \\scriptscriptstyle \\square \n",
       " &  \\scriptscriptstyle \\square \n",
       " \\\\\n",
       " \\scriptscriptstyle \\blacksquare \n",
       " &  \\scriptscriptstyle \\blacksquare \n",
       " &  \\scriptscriptstyle \\square \n",
       "\\end{array}\\right),\n",
       "\\left(\\begin{array}{cc}\n",
       " \\scriptscriptstyle \\square \n",
       " &  \\scriptscriptstyle \\square \n",
       " \\\\\n",
       " \\scriptscriptstyle \\blacksquare \n",
       " &  \\scriptscriptstyle \\square \n",
       "\\end{array}\\right),\n",
       "\\left(\\begin{array}{c}\n",
       " \\scriptscriptstyle \\square \n",
       "\\end{array}\\right)\n",
       " \\right] $$\n",
       "<br/>$\\begin{array}{||c|c|c||}\n",
       "\\hline\\begin{array}{c}\n",
       " 1\n",
       "\\end{array}\n",
       "&\n",
       "\\begin{array}{cc}\n",
       " 1 &\n",
       " \\cdot\n",
       "\\end{array}\n",
       "&\n",
       "\\begin{array}{c}\n",
       " 6\n",
       "\\end{array} \\\\\\hline\n",
       "\\begin{array}{c}\n",
       " \\cdot\n",
       "\\end{array}\n",
       "&\n",
       "\\begin{array}{cc}\n",
       " 2 &\n",
       " \\cdot\n",
       "\\end{array}\n",
       "&\n",
       "\\begin{array}{c}\n",
       " \\cdot\n",
       "\\end{array} \\\\\\hline\n",
       "\\begin{array}{c}\n",
       " \\cdot\n",
       "\\end{array}\n",
       "&\n",
       "\\begin{array}{cc}\n",
       " \\cdot &\n",
       " 2\n",
       "\\end{array}\n",
       "&\n",
       "\\begin{array}{c}\n",
       " 4\n",
       "\\end{array} \\\\\\hline\n",
       "\\begin{array}{c}\n",
       " \\cdot\n",
       "\\end{array}\n",
       "&\n",
       "\\begin{array}{cc}\n",
       " \\cdot &\n",
       " \\cdot\n",
       "\\end{array}\n",
       "&\n",
       "\\begin{array}{c}\n",
       " 8\n",
       "\\end{array} \\\\\\hline\n",
       "\\end{array}$\n",
       "* $\\textrm{Hom}_\\Lambda(\\mathcal{P}(S_2), \\mathcal{P}(S_1))^{\\top}$:\n",
       "\n",
       "$$\n",
       " \\left[\\left(\\begin{array}{c}\n",
       " \\scriptscriptstyle \\square \n",
       "\\end{array}\\right),\n",
       "\\left(\\begin{array}{cc}\n",
       " \\scriptscriptstyle \\square \n",
       " &  \\scriptscriptstyle \\blacksquare \n",
       " \\\\\n",
       " \\scriptscriptstyle \\square \n",
       " &  \\scriptscriptstyle \\square \n",
       "\\end{array}\\right),\n",
       "\\left(\\begin{array}{ccc}\n",
       " \\scriptscriptstyle \\square \n",
       " &  \\scriptscriptstyle \\square \n",
       " &  \\scriptscriptstyle \\blacksquare \n",
       " \\\\\n",
       " \\scriptscriptstyle \\square \n",
       " &  \\scriptscriptstyle \\square \n",
       " &  \\scriptscriptstyle \\blacksquare \n",
       " \\\\\n",
       " \\scriptscriptstyle \\square \n",
       " &  \\scriptscriptstyle \\square \n",
       " &  \\scriptscriptstyle \\square \n",
       "\\end{array}\\right),\n",
       "\\left(\\begin{array}{cc}\n",
       " \\scriptscriptstyle \\square \n",
       " &  \\scriptscriptstyle \\blacksquare \n",
       " \\\\\n",
       " \\scriptscriptstyle \\square \n",
       " &  \\scriptscriptstyle \\square \n",
       "\\end{array}\\right),\n",
       "\\left(\\begin{array}{c}\n",
       " \\scriptscriptstyle \\square \n",
       "\\end{array}\\right)\n",
       " \\right] $$\n",
       "<br/>$\\begin{array}{||c|c|c||}\n",
       "\\hline\\begin{array}{c}\n",
       " 2\n",
       "\\end{array}\n",
       "&\n",
       "\\begin{array}{c}\n",
       " \\cdot \\\\\n",
       " 1\n",
       "\\end{array}\n",
       "&\n",
       "\\begin{array}{c}\n",
       " 1\n",
       "\\end{array} \\\\\\hline\n",
       "\\begin{array}{c}\n",
       " \\cdot\n",
       "\\end{array}\n",
       "&\n",
       "\\begin{array}{c}\n",
       " 2 \\\\\n",
       " \\cdot\n",
       "\\end{array}\n",
       "&\n",
       "\\begin{array}{c}\n",
       " 2\n",
       "\\end{array} \\\\\\hline\n",
       "\\begin{array}{c}\n",
       " \\cdot\n",
       "\\end{array}\n",
       "&\n",
       "\\begin{array}{c}\n",
       " \\cdot \\\\\n",
       " 2\n",
       "\\end{array}\n",
       "&\n",
       "\\begin{array}{c}\n",
       " \\cdot\n",
       "\\end{array} \\\\\\hline\n",
       "\\begin{array}{c}\n",
       " \\cdot\n",
       "\\end{array}\n",
       "&\n",
       "\\begin{array}{c}\n",
       " \\cdot \\\\\n",
       " \\cdot\n",
       "\\end{array}\n",
       "&\n",
       "\\begin{array}{c}\n",
       " 4\n",
       "\\end{array} \\\\\\hline\n",
       "\\end{array}$\n",
       "* $\\textrm{Hom}_\\Lambda(\\mathcal{P}(S_2), \\mathcal{P}(S_2))^{\\top}$:\n",
       "\n",
       "$$\n",
       " \\left[\\left(\\begin{array}{c}\n",
       " \\scriptscriptstyle \\square \n",
       "\\end{array}\\right),\n",
       "\\left(\\begin{array}{cc}\n",
       " \\scriptscriptstyle \\square \n",
       " &  \\scriptscriptstyle \\square \n",
       " \\\\\n",
       " \\scriptscriptstyle \\square \n",
       " &  \\scriptscriptstyle \\blacksquare \n",
       "\\end{array}\\right),\n",
       "\\left(\\begin{array}{ccc}\n",
       " \\scriptscriptstyle \\square \n",
       " &  \\scriptscriptstyle \\square \n",
       " &  \\scriptscriptstyle \\square \n",
       " \\\\\n",
       " \\scriptscriptstyle \\square \n",
       " &  \\scriptscriptstyle \\square \n",
       " &  \\scriptscriptstyle \\square \n",
       " \\\\\n",
       " \\scriptscriptstyle \\square \n",
       " &  \\scriptscriptstyle \\square \n",
       " &  \\scriptscriptstyle \\blacksquare \n",
       "\\end{array}\\right),\n",
       "\\left(\\begin{array}{cc}\n",
       " \\scriptscriptstyle \\square \n",
       " &  \\scriptscriptstyle \\square \n",
       " \\\\\n",
       " \\scriptscriptstyle \\square \n",
       " &  \\scriptscriptstyle \\blacksquare \n",
       "\\end{array}\\right),\n",
       "\\left(\\begin{array}{c}\n",
       " \\scriptscriptstyle \\square \n",
       "\\end{array}\\right)\n",
       " \\right] $$\n",
       "<br/>$\\begin{array}{||c|c|c||}\n",
       "\\hline\\begin{array}{c}\n",
       " 1\n",
       "\\end{array}\n",
       "&\n",
       "\\begin{array}{c}\n",
       " 1\n",
       "\\end{array}\n",
       "&\n",
       "\\begin{array}{c}\n",
       " 1\n",
       "\\end{array} \\\\\\hline\n",
       "\\begin{array}{c}\n",
       " \\cdot\n",
       "\\end{array}\n",
       "&\n",
       "\\begin{array}{c}\n",
       " 2\n",
       "\\end{array}\n",
       "&\n",
       "\\begin{array}{c}\n",
       " 4\n",
       "\\end{array} \\\\\\hline\n",
       "\\begin{array}{c}\n",
       " \\cdot\n",
       "\\end{array}\n",
       "&\n",
       "\\begin{array}{c}\n",
       " \\cdot\n",
       "\\end{array}\n",
       "&\n",
       "\\begin{array}{c}\n",
       " 8\n",
       "\\end{array} \\\\\\hline\n",
       "\\end{array}$\n"
      ]
     },
     "execution_count": 21,
     "metadata": {},
     "output_type": "execute_result"
    }
   ],
   "source": [
    "JupyterDisplayBasisOfOrder(C);"
   ]
  },
  {
   "cell_type": "markdown",
   "metadata": {},
   "source": [
    "## $B_0(\\mathbb Z_2 S_9)$ and how to use condensation"
   ]
  },
  {
   "cell_type": "code",
   "execution_count": 24,
   "metadata": {},
   "outputs": [
    {
     "data": {
      "text/markdown": [
       "&lt;order over $\\mathbb Z_{2}$ on 2 generators in 22 Wedderburn components&gt;"
      ]
     },
     "execution_count": 22,
     "metadata": {},
     "output_type": "execute_result"
    },
    {
     "data": {
      "text/plain": [
       "Sym( [ 1 .. 8 ] )"
      ]
     },
     "execution_count": 23,
     "metadata": {
      "text/plain": ""
     },
     "output_type": "execute_result"
    },
    {
     "data": {
      "text/plain": [
       "Group([ (1,2,3)(4,5,6) ])"
      ]
     },
     "execution_count": 24,
     "metadata": {
      "text/plain": ""
     },
     "output_type": "execute_result"
    }
   ],
   "source": [
    "A := ZpSn(2,8);\n",
    "G := SymmetricGroup(8);\n",
    "K := Group((1,2,3)(4,5,6));"
   ]
  },
  {
   "cell_type": "code",
   "execution_count": 25,
   "metadata": {},
   "outputs": [],
   "source": [
    "data := CondensationData(G, K);;"
   ]
  },
  {
   "cell_type": "code",
   "execution_count": 26,
   "metadata": {},
   "outputs": [
    {
     "name": "stdout",
     "output_type": "stream",
     "text": [
      "Decomposition matrix:\n",
      "[ [  1,  0,  0,  0,  0,  0 ],\n",
      "  [  1,  1,  0,  0,  0,  0 ],\n",
      "  [  0,  1,  1,  0,  0,  0 ],\n",
      "  [  1,  1,  1,  0,  0,  0 ],\n",
      "  [  0,  1,  1,  1,  0,  0 ],\n",
      "  [  0,  0,  0,  0,  1,  0 ],\n",
      "  [  1,  2,  1,  1,  0,  0 ],\n",
      "  [  0,  1,  0,  1,  0,  0 ],\n",
      "  [  2,  1,  1,  1,  0,  1 ],\n",
      "  [  2,  0,  1,  0,  0,  1 ],\n",
      "  [  2,  2,  2,  1,  0,  1 ],\n",
      "  [  1,  2,  1,  1,  0,  0 ],\n",
      "  [  2,  0,  0,  0,  0,  1 ],\n",
      "  [  2,  0,  1,  0,  0,  1 ],\n",
      "  [  2,  1,  1,  1,  0,  1 ],\n",
      "  [  0,  0,  0,  0,  1,  0 ],\n",
      "  [  1,  1,  1,  0,  0,  0 ],\n",
      "  [  0,  1,  0,  1,  0,  0 ],\n",
      "  [  0,  1,  1,  1,  0,  0 ],\n",
      "  [  0,  1,  1,  0,  0,  0 ],\n",
      "  [  1,  1,  0,  0,  0,  0 ],\n",
      "  [  1,  0,  0,  0,  0,  0 ] ]\n",
      "Dimensions of simple modules:\n",
      "[ 1, 2, 4, 4, 20, 12 ]\n",
      "Dimensions of irreducible lattices:\n",
      "[ 1, 3, 6, 7, 10, 20, 13, 6, 24, 18, 30, 13, 14, 18, 24, 20, 7, 6, 10, 6, 3, \n",
      "  1 ]\n",
      "Lost 0 simple modules\n",
      "Lost 0 Wedderburn-components\n"
     ]
    }
   ],
   "source": [
    "CondensationProperties(A, data);"
   ]
  },
  {
   "cell_type": "markdown",
   "metadata": {},
   "source": [
    "This shows that $K$ can be used for faithful condensation. So lets do this for the principal block:"
   ]
  },
  {
   "cell_type": "code",
   "execution_count": 27,
   "metadata": {},
   "outputs": [
    {
     "data": {
      "text/markdown": [
       "&lt;order over $\\mathbb Z_{2}$ on 2 generators in 20 Wedderburn components&gt;"
      ]
     },
     "execution_count": 27,
     "metadata": {},
     "output_type": "execute_result"
    }
   ],
   "source": [
    "B0 := ExtractWedderburnComponents(A, BlocksOfZpOrder(A)[1]);"
   ]
  },
  {
   "cell_type": "code",
   "execution_count": 28,
   "metadata": {},
   "outputs": [
    {
     "data": {
      "text/markdown": [
       "&lt;order over $\\mathbb Z_{2}$ on 22 generators in 20 Wedderburn components&gt;"
      ]
     },
     "execution_count": 28,
     "metadata": {},
     "output_type": "execute_result"
    }
   ],
   "source": [
    "C := CondenseGroupRingNC(B0, data);"
   ]
  },
  {
   "cell_type": "markdown",
   "metadata": {},
   "source": [
    "Let's compare dimensions of irreducible lattices:"
   ]
  },
  {
   "cell_type": "code",
   "execution_count": 29,
   "metadata": {},
   "outputs": [
    {
     "data": {
      "text/plain": [
       "[ 1, 7, 20, 21, 28, 35, 14, 70, 56, 90, 35, 42, 56, 70, 21, 14, 28, 20, 7, 1 ]"
      ]
     },
     "execution_count": 29,
     "metadata": {
      "text/plain": ""
     },
     "output_type": "execute_result"
    }
   ],
   "source": [
    "List(IrreducibleLattices(B0), Dimension);"
   ]
  },
  {
   "cell_type": "code",
   "execution_count": 30,
   "metadata": {},
   "outputs": [
    {
     "data": {
      "text/plain": [
       "[ 1, 3, 6, 7, 10, 13, 6, 24, 18, 30, 13, 14, 18, 24, 7, 6, 10, 6, 3, 1 ]"
      ]
     },
     "execution_count": 30,
     "metadata": {
      "text/plain": ""
     },
     "output_type": "execute_result"
    }
   ],
   "source": [
    "List(IrreducibleLattices(C), Dimension);"
   ]
  },
  {
   "cell_type": "markdown",
   "metadata": {},
   "source": [
    "So dimensions have dropped quite a bit, but $C$ is not basic:"
   ]
  },
  {
   "cell_type": "code",
   "execution_count": 31,
   "metadata": {},
   "outputs": [
    {
     "data": {
      "text/plain": [
       "[ 1, 2, 4, 4, 12 ]"
      ]
     },
     "execution_count": 31,
     "metadata": {
      "text/plain": ""
     },
     "output_type": "execute_result"
    }
   ],
   "source": [
    "List(SimpleModules(C), Dimension);"
   ]
  },
  {
   "cell_type": "code",
   "execution_count": 32,
   "metadata": {},
   "outputs": [
    {
     "data": {
      "text/markdown": [
       "&lt;order over $\\mathbb Z_{2}$ on 289 generators in 20 Wedderburn components&gt;"
      ]
     },
     "execution_count": 32,
     "metadata": {},
     "output_type": "execute_result"
    }
   ],
   "source": [
    "# SetDebugOutput(true); # The computation below takes a while; \n",
    "# this would give us some status updates\n",
    "C0 := BasicOrder(C);"
   ]
  },
  {
   "cell_type": "code",
   "execution_count": 35,
   "metadata": {},
   "outputs": [
    {
     "data": {
      "text/plain": [
       "[ 1, 1, 1, 1, 1 ]"
      ]
     },
     "execution_count": 34,
     "metadata": {
      "text/plain": ""
     },
     "output_type": "execute_result"
    },
    {
     "data": {
      "text/plain": [
       "289"
      ]
     },
     "execution_count": 35,
     "metadata": {
      "text/plain": ""
     },
     "output_type": "execute_result"
    }
   ],
   "source": [
    "List(SimpleModules(C0), Dimension);\n",
    "Size(Generators(C0));"
   ]
  },
  {
   "cell_type": "markdown",
   "metadata": {},
   "source": [
    "Of course we could now go on to inspect the basis of <code>C0</code> just as we did for the basic algebra of $\\mathbb Z_2 S_5$."
   ]
  },
  {
   "cell_type": "markdown",
   "metadata": {},
   "source": [
    "## An example which is not a symmetric group: $B_0(\\mathbb Z_2 M_{12})$"
   ]
  },
  {
   "cell_type": "code",
   "execution_count": 36,
   "metadata": {},
   "outputs": [],
   "source": [
    "Read(\"m12_reps.g\");"
   ]
  },
  {
   "cell_type": "markdown",
   "metadata": {},
   "source": [
    "The file we just read contains the irreducible representations of the principal $2$-block of  $M_{12}$ over $\\mathbb Q$ (which happen to be the same as over $\\mathbb Q_2$). It defines a set of generators `gens`, as well as \n",
    "a list `rep` such that `rep[i][j]` is the image of `gens[j]` under the $i$-th irreducible representation of $M_{12}$ (never mind where we get these representations from)."
   ]
  },
  {
   "cell_type": "code",
   "execution_count": 38,
   "metadata": {},
   "outputs": [
    {
     "data": {
      "text/plain": [
       "[ (1,2,3,4,5,6,7,8,9,10,11), (3,7,11,8)(4,10,5,6), (1,12)(2,11)(3,6)(4,8)(5,9)(7,10) ]"
      ]
     },
     "execution_count": 37,
     "metadata": {
      "text/plain": ""
     },
     "output_type": "execute_result"
    },
    {
     "data": {
      "text/plain": [
       "<object>"
      ]
     },
     "execution_count": 38,
     "metadata": {
      "text/plain": ""
     },
     "output_type": "execute_result"
    }
   ],
   "source": [
    "gens;\n",
    "GroupHomomorphismByImages(Group(gens), GL(Size(rep[2][1]), Integers), \n",
    "    gens, rep[2]);"
   ]
  },
  {
   "cell_type": "markdown",
   "metadata": {},
   "source": [
    "Let us first define the order $B_0(\\mathbb Z_2 M_{12})$:"
   ]
  },
  {
   "cell_type": "code",
   "execution_count": 39,
   "metadata": {},
   "outputs": [
    {
     "data": {
      "text/markdown": [
       "&lt;order over $\\mathbb Z_{2}$ on 3 generators in 11 Wedderburn components&gt;"
      ]
     },
     "execution_count": 39,
     "metadata": {},
     "output_type": "execute_result"
    }
   ],
   "source": [
    "A := ZpOrderByMultiMatrices(2, List([1..3], i->List(rep, r -> r[i])));"
   ]
  },
  {
   "cell_type": "code",
   "execution_count": 40,
   "metadata": {},
   "outputs": [
    {
     "data": {
      "text/latex": [
       "$$\\begin{array}{||c|ccc||} \\hline\n",
       " & 1 & 10 & 44 \\\\ \\hline1 & 1\n",
       " & .\n",
       " & .\n",
       "\\\\\n",
       "11 & 1\n",
       " & 1\n",
       " & .\n",
       "\\\\\n",
       "11 & 1\n",
       " & 1\n",
       " & .\n",
       "\\\\\n",
       "45 & 1\n",
       " & .\n",
       " & 1\n",
       "\\\\\n",
       "54 & .\n",
       " & 1\n",
       " & 1\n",
       "\\\\\n",
       "55 & 1\n",
       " & 1\n",
       " & 1\n",
       "\\\\\n",
       "55 & 1\n",
       " & 1\n",
       " & 1\n",
       "\\\\\n",
       "55 & 1\n",
       " & 1\n",
       " & 1\n",
       "\\\\\n",
       "66 & 2\n",
       " & 2\n",
       " & 1\n",
       "\\\\\n",
       "99 & 1\n",
       " & 1\n",
       " & 2\n",
       "\\\\\n",
       "120 & 2\n",
       " & 3\n",
       " & 2\n",
       "\\\\\n",
       "\\hline\\end{array}\n",
       "$$\n"
      ]
     },
     "execution_count": 40,
     "metadata": {},
     "output_type": "execute_result"
    }
   ],
   "source": [
    "JupyterDisplayDecompositionMatrix(A);"
   ]
  },
  {
   "cell_type": "markdown",
   "metadata": {},
   "source": [
    "We need to tell `GAP` what the endomorphism rings of the irreducible lattices of `A` are. This is important for further computations (and happened automatically for $S_n$).\n",
    "\n",
    "There are several ways to do this. One way would be `CalculateEndomorphismRingsByReynoldsNC`. However, in this case we know that all irreducible representations of `A` are absolutely irreducible. So we can just do the following:"
   ]
  },
  {
   "cell_type": "code",
   "execution_count": 41,
   "metadata": {},
   "outputs": [],
   "source": [
    "InstallTrivialEndomorphismRings(A);"
   ]
  },
  {
   "cell_type": "markdown",
   "metadata": {},
   "source": [
    "And now we are ready to compute a basic algebra as before:"
   ]
  },
  {
   "cell_type": "code",
   "execution_count": 42,
   "metadata": {},
   "outputs": [
    {
     "data": {
      "text/markdown": [
       "&lt;order over $\\mathbb Z_{2}$ on 134 generators in 11 Wedderburn components&gt;"
      ]
     },
     "execution_count": 42,
     "metadata": {},
     "output_type": "execute_result"
    }
   ],
   "source": [
    "B := BasicOrder(A);"
   ]
  },
  {
   "cell_type": "markdown",
   "metadata": {},
   "source": [
    "And we are done"
   ]
  }
 ],
 "metadata": {
  "kernelspec": {
   "display_name": "GAP 4",
   "language": "gap",
   "name": "gap-4"
  },
  "language_info": {
   "codemirror_mode": "gap",
   "file_extension": ".g",
   "mimetype": "text/x-gap",
   "name": "GAP 4",
   "nbconvert_exporter": "",
   "pygments_lexer": "gap",
   "version": "4.9.1"
  }
 },
 "nbformat": 4,
 "nbformat_minor": 2
}
